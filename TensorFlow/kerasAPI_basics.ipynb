{
 "nbformat": 4,
 "nbformat_minor": 0,
 "metadata": {
  "colab": {
   "provenance": [],
   "gpuType": "T4",
   "toc_visible": true
  },
  "kernelspec": {
   "name": "python3",
   "display_name": "Python 3"
  },
  "language_info": {
   "name": "python"
  },
  "accelerator": "GPU"
 },
 "cells": [
  {
   "cell_type": "markdown",
   "source": [
    "# Learn the basics of Keras API for TensorFlow."
   ],
   "metadata": {
    "id": "3_TtRNr9ebcT"
   }
  },
  {
   "cell_type": "markdown",
   "source": [
    "### mnist_mlp"
   ],
   "metadata": {
    "id": "sWfLOXj2fQ-y"
   }
  },
  {
   "cell_type": "code",
   "source": [
    "'''Trains a simple deep NN on the MNIST dataset.\n",
    "\n",
    "Gets to 98.40% test accuracy after 20 epochs\n",
    "(there is *a lot* of margin for parameter tuning).\n",
    "2 seconds per epoch on a K520 GPU.\n",
    "'''\n",
    "\n",
    "from __future__ import print_function\n",
    "\n",
    "import keras\n",
    "from keras.datasets import mnist\n",
    "from keras.models import Sequential\n",
    "from keras.layers import Dense, Dropout\n",
    "from keras.optimizers import RMSprop\n",
    "\n",
    "batch_size = 128\n",
    "num_classes = 10\n",
    "epochs = 20\n",
    "\n",
    "# the data, split between train and test sets\n",
    "(x_train, y_train), (x_test, y_test) = mnist.load_data()\n",
    "\n",
    "x_train = x_train.reshape(60000, 784)\n",
    "x_test = x_test.reshape(10000, 784)\n",
    "x_train = x_train.astype('float32')\n",
    "x_test = x_test.astype('float32')\n",
    "x_train /= 255\n",
    "x_test /= 255\n",
    "print(x_train.shape[0], 'train samples')\n",
    "print(x_test.shape[0], 'test samples')\n",
    "\n",
    "# convert class vectors to binary class matrices\n",
    "y_train = keras.utils.to_categorical(y_train, num_classes)\n",
    "y_test = keras.utils.to_categorical(y_test, num_classes)\n",
    "\n",
    "model = Sequential()\n",
    "model.add(Dense(512, activation='relu', input_shape=(784,)))\n",
    "# model.add(Dropout(0.2))\n",
    "model.add(Dense(512, activation='relu'))\n",
    "model.add(Dropout(0.5))\n",
    "model.add(Dense(num_classes, activation='softmax'))\n",
    "\n",
    "model.summary()\n",
    "\n",
    "model.compile(loss='categorical_crossentropy',\n",
    "              optimizer=tf.keras.optimizers.SGD(learning_rate=0.01),\n",
    "              metrics=['accuracy'])\n",
    "\n",
    "history = model.fit(x_train, y_train,\n",
    "                    batch_size=batch_size,\n",
    "                    epochs=epochs,\n",
    "                    verbose=1,\n",
    "                    validation_data=(x_test, y_test))\n",
    "score = model.evaluate(x_test, y_test, verbose=0)\n",
    "print('Test loss:', score[0])\n",
    "print('Test accuracy:', score[1])"
   ],
   "metadata": {
    "colab": {
     "base_uri": "https://localhost:8080/"
    },
    "id": "7-2jna3nfpFy",
    "outputId": "2af6008a-8845-4469-ccf4-a64935823b52"
   },
   "execution_count": null,
   "outputs": [
    {
     "output_type": "stream",
     "name": "stdout",
     "text": [
      "60000 train samples\n",
      "10000 test samples\n",
      "Model: \"sequential_20\"\n",
      "_________________________________________________________________\n",
      " Layer (type)                Output Shape              Param #   \n",
      "=================================================================\n",
      " dense_60 (Dense)            (None, 512)               401920    \n",
      "                                                                 \n",
      " dense_61 (Dense)            (None, 512)               262656    \n",
      "                                                                 \n",
      " dropout_15 (Dropout)        (None, 512)               0         \n",
      "                                                                 \n",
      " dense_62 (Dense)            (None, 10)                5130      \n",
      "                                                                 \n",
      "=================================================================\n",
      "Total params: 669706 (2.55 MB)\n",
      "Trainable params: 669706 (2.55 MB)\n",
      "Non-trainable params: 0 (0.00 Byte)\n",
      "_________________________________________________________________\n",
      "Epoch 1/20\n",
      "469/469 [==============================] - 3s 5ms/step - loss: 1.1922 - accuracy: 0.6703 - val_loss: 0.5493 - val_accuracy: 0.8679\n",
      "Epoch 2/20\n",
      "469/469 [==============================] - 2s 5ms/step - loss: 0.5392 - accuracy: 0.8490 - val_loss: 0.3789 - val_accuracy: 0.9050\n",
      "Epoch 3/20\n",
      "469/469 [==============================] - 3s 5ms/step - loss: 0.4240 - accuracy: 0.8799 - val_loss: 0.3201 - val_accuracy: 0.9149\n",
      "Epoch 4/20\n",
      "469/469 [==============================] - 2s 5ms/step - loss: 0.3705 - accuracy: 0.8946 - val_loss: 0.2906 - val_accuracy: 0.9186\n",
      "Epoch 5/20\n",
      "469/469 [==============================] - 2s 5ms/step - loss: 0.3354 - accuracy: 0.9037 - val_loss: 0.2660 - val_accuracy: 0.9262\n",
      "Epoch 6/20\n",
      "469/469 [==============================] - 2s 5ms/step - loss: 0.3113 - accuracy: 0.9108 - val_loss: 0.2493 - val_accuracy: 0.9303\n",
      "Epoch 7/20\n",
      "469/469 [==============================] - 2s 4ms/step - loss: 0.2913 - accuracy: 0.9156 - val_loss: 0.2373 - val_accuracy: 0.9333\n",
      "Epoch 8/20\n",
      "469/469 [==============================] - 3s 6ms/step - loss: 0.2755 - accuracy: 0.9214 - val_loss: 0.2244 - val_accuracy: 0.9370\n",
      "Epoch 9/20\n",
      "469/469 [==============================] - 2s 5ms/step - loss: 0.2622 - accuracy: 0.9247 - val_loss: 0.2145 - val_accuracy: 0.9379\n",
      "Epoch 10/20\n",
      "469/469 [==============================] - 2s 4ms/step - loss: 0.2505 - accuracy: 0.9276 - val_loss: 0.2056 - val_accuracy: 0.9413\n",
      "Epoch 11/20\n",
      "469/469 [==============================] - 2s 4ms/step - loss: 0.2390 - accuracy: 0.9305 - val_loss: 0.1964 - val_accuracy: 0.9437\n",
      "Epoch 12/20\n",
      "469/469 [==============================] - 2s 4ms/step - loss: 0.2269 - accuracy: 0.9344 - val_loss: 0.1913 - val_accuracy: 0.9450\n",
      "Epoch 13/20\n",
      "469/469 [==============================] - 2s 5ms/step - loss: 0.2192 - accuracy: 0.9362 - val_loss: 0.1832 - val_accuracy: 0.9468\n",
      "Epoch 14/20\n",
      "469/469 [==============================] - 3s 6ms/step - loss: 0.2113 - accuracy: 0.9388 - val_loss: 0.1770 - val_accuracy: 0.9491\n",
      "Epoch 15/20\n",
      "469/469 [==============================] - 2s 4ms/step - loss: 0.2043 - accuracy: 0.9405 - val_loss: 0.1724 - val_accuracy: 0.9496\n",
      "Epoch 16/20\n",
      "469/469 [==============================] - 2s 5ms/step - loss: 0.1977 - accuracy: 0.9428 - val_loss: 0.1667 - val_accuracy: 0.9513\n",
      "Epoch 17/20\n",
      "469/469 [==============================] - 2s 4ms/step - loss: 0.1915 - accuracy: 0.9453 - val_loss: 0.1617 - val_accuracy: 0.9529\n",
      "Epoch 18/20\n",
      "469/469 [==============================] - 2s 4ms/step - loss: 0.1871 - accuracy: 0.9464 - val_loss: 0.1578 - val_accuracy: 0.9536\n",
      "Epoch 19/20\n",
      "469/469 [==============================] - 2s 4ms/step - loss: 0.1801 - accuracy: 0.9481 - val_loss: 0.1527 - val_accuracy: 0.9547\n",
      "Epoch 20/20\n",
      "469/469 [==============================] - 3s 6ms/step - loss: 0.1758 - accuracy: 0.9493 - val_loss: 0.1486 - val_accuracy: 0.9544\n",
      "Test loss: 0.14861278235912323\n",
      "Test accuracy: 0.9544000029563904\n"
     ]
    }
   ]
  },
  {
   "cell_type": "markdown",
   "source": [
    "### mnist_cnn"
   ],
   "metadata": {
    "id": "5zJvtlLGfc9p"
   }
  },
  {
   "cell_type": "code",
   "source": [
    "'''Trains a simple convnet on the MNIST dataset.\n",
    "\n",
    "Gets to 99.25% test accuracy after 12 epochs\n",
    "(there is still a lot of margin for parameter tuning).\n",
    "16 seconds per epoch on a GRID K520 GPU.\n",
    "'''\n",
    "\n",
    "from __future__ import print_function\n",
    "import keras\n",
    "from keras.datasets import mnist\n",
    "from keras.models import Sequential\n",
    "from keras.layers import Dense, Dropout, Flatten\n",
    "from keras.layers import Conv2D, MaxPooling2D\n",
    "from keras import backend as K\n",
    "\n",
    "batch_size = 128\n",
    "num_classes = 10\n",
    "epochs = 12\n",
    "\n",
    "# input image dimensions\n",
    "img_rows, img_cols = 28, 28\n",
    "\n",
    "# the data, split between train and test sets\n",
    "(x_train, y_train), (x_test, y_test) = mnist.load_data()\n",
    "\n",
    "if K.image_data_format() == 'channels_first':\n",
    "    x_train = x_train.reshape(x_train.shape[0], 1, img_rows, img_cols)\n",
    "    x_test = x_test.reshape(x_test.shape[0], 1, img_rows, img_cols)\n",
    "    input_shape = (1, img_rows, img_cols)\n",
    "else:\n",
    "    x_train = x_train.reshape(x_train.shape[0], img_rows, img_cols, 1)\n",
    "    x_test = x_test.reshape(x_test.shape[0], img_rows, img_cols, 1)\n",
    "    input_shape = (img_rows, img_cols, 1)\n",
    "\n",
    "x_train = x_train.astype('float32')\n",
    "x_test = x_test.astype('float32')\n",
    "x_train /= 255\n",
    "x_test /= 255\n",
    "print('x_train shape:', x_train.shape)\n",
    "print(x_train.shape[0], 'train samples')\n",
    "print(x_test.shape[0], 'test samples')\n",
    "\n",
    "# convert class vectors to binary class matrices\n",
    "y_train = keras.utils.to_categorical(y_train, num_classes)\n",
    "y_test = keras.utils.to_categorical(y_test, num_classes)\n",
    "\n",
    "model = Sequential()\n",
    "model.add(Conv2D(64, kernel_size=(3, 3),\n",
    "                 activation='relu',\n",
    "                 input_shape=input_shape))\n",
    "model.add(Conv2D(128, (3, 3), activation='relu'))\n",
    "# model.add(MaxPooling2D(pool_size=(2, 2)))\n",
    "model.add(Dropout(0.25))\n",
    "model.add(Flatten())\n",
    "model.add(Dense(128, activation='relu'))\n",
    "model.add(Dropout(0.5))\n",
    "model.add(Dense(num_classes, activation='softmax'))\n",
    "\n",
    "model.compile(loss=keras.losses.categorical_crossentropy,\n",
    "              optimizer=keras.optimizers.SGD(learning_rate=0.01),\n",
    "              metrics=['accuracy'])\n",
    "\n",
    "model.fit(x_train, y_train,\n",
    "          batch_size=batch_size,\n",
    "          epochs=epochs,\n",
    "          verbose=1,\n",
    "          validation_data=(x_test, y_test))\n",
    "score = model.evaluate(x_test, y_test, verbose=0)\n",
    "print('Test loss:', score[0])\n",
    "print('Test accuracy:', score[1])"
   ],
   "metadata": {
    "colab": {
     "base_uri": "https://localhost:8080/"
    },
    "id": "1TWUTWGrgKcL",
    "outputId": "cd733a23-9f6b-428a-ebc7-3c3d711c667f"
   },
   "execution_count": null,
   "outputs": [
    {
     "output_type": "stream",
     "name": "stdout",
     "text": [
      "x_train shape: (60000, 28, 28, 1)\n",
      "60000 train samples\n",
      "10000 test samples\n",
      "Epoch 1/12\n",
      "469/469 [==============================] - 10s 19ms/step - loss: 0.7142 - accuracy: 0.7908 - val_loss: 0.2580 - val_accuracy: 0.9236\n",
      "Epoch 2/12\n",
      "469/469 [==============================] - 9s 18ms/step - loss: 0.3297 - accuracy: 0.9015 - val_loss: 0.1880 - val_accuracy: 0.9437\n",
      "Epoch 3/12\n",
      "469/469 [==============================] - 9s 19ms/step - loss: 0.2782 - accuracy: 0.9186 - val_loss: 0.1535 - val_accuracy: 0.9540\n",
      "Epoch 4/12\n",
      "469/469 [==============================] - 9s 19ms/step - loss: 0.2526 - accuracy: 0.9255 - val_loss: 0.1433 - val_accuracy: 0.9563\n",
      "Epoch 5/12\n",
      "469/469 [==============================] - 9s 19ms/step - loss: 0.2327 - accuracy: 0.9308 - val_loss: 0.1311 - val_accuracy: 0.9588\n",
      "Epoch 6/12\n",
      "469/469 [==============================] - 9s 18ms/step - loss: 0.2143 - accuracy: 0.9367 - val_loss: 0.1193 - val_accuracy: 0.9633\n",
      "Epoch 7/12\n",
      "469/469 [==============================] - 9s 18ms/step - loss: 0.2032 - accuracy: 0.9406 - val_loss: 0.1125 - val_accuracy: 0.9661\n",
      "Epoch 8/12\n",
      "469/469 [==============================] - 9s 19ms/step - loss: 0.1965 - accuracy: 0.9416 - val_loss: 0.1037 - val_accuracy: 0.9682\n",
      "Epoch 9/12\n",
      "469/469 [==============================] - 8s 18ms/step - loss: 0.1875 - accuracy: 0.9450 - val_loss: 0.1046 - val_accuracy: 0.9681\n",
      "Epoch 10/12\n",
      "469/469 [==============================] - 10s 22ms/step - loss: 0.1821 - accuracy: 0.9457 - val_loss: 0.0930 - val_accuracy: 0.9711\n",
      "Epoch 11/12\n",
      "469/469 [==============================] - 9s 18ms/step - loss: 0.1743 - accuracy: 0.9488 - val_loss: 0.0934 - val_accuracy: 0.9718\n",
      "Epoch 12/12\n",
      "469/469 [==============================] - 8s 18ms/step - loss: 0.1690 - accuracy: 0.9498 - val_loss: 0.0900 - val_accuracy: 0.9742\n",
      "Test loss: 0.09000331908464432\n",
      "Test accuracy: 0.9742000102996826\n"
     ]
    }
   ]
  },
  {
   "cell_type": "markdown",
   "source": [
    "## Apply two reference networks on the fashion MNIST dataset: a MLP and a CNN.\n",
    "\n",
    "Experiment with both networks, trying various options: initializations, activations, optimizers (and their hyperparameters), regularizations (L1, L2, Dropout, no Dropout).\n",
    "\n",
    "You may also experiment with changing the architecture of both networks: adding/removing layers, number of convolutional filters, their sizes, etc.\n",
    "\n",
    "For optimizing your hyperparameters you should use a validation set (10% of the training set).\n",
    "\n",
    "After you have found the best-performing hyperparameter sets, take the 3 best ones and train new models on the CIFAR-10 dataset, see whether your performance gains translate to a different dataset."
   ],
   "metadata": {
    "id": "OSbyawFM1h5E"
   }
  },
  {
   "cell_type": "markdown",
   "source": [
    "### MLP network on fashion MNIST"
   ],
   "metadata": {
    "id": "dL354Ha-3T2F"
   }
  },
  {
   "cell_type": "code",
   "source": [
    "import tensorflow as tf\n",
    "from matplotlib import pyplot as plt\n",
    "fashion_mnist = tf.keras.datasets.fashion_mnist.load_data()\n",
    "(X_train_full, y_train_full), (X_test, y_test) = fashion_mnist\n",
    "\n",
    "# 10% of traiining set is used for validation\n",
    "X_train, y_train = X_train_full[:-6000], y_train_full[:-6000]\n",
    "X_valid, y_valid = X_train_full[-6000:], y_train_full[-6000:]"
   ],
   "metadata": {
    "id": "W_CcsDqY3cNA",
    "colab": {
     "base_uri": "https://localhost:8080/"
    },
    "outputId": "f6bbd2d5-a03e-45cd-bb3f-265ef571bdf8"
   },
   "execution_count": null,
   "outputs": [
    {
     "output_type": "stream",
     "name": "stdout",
     "text": [
      "Downloading data from https://storage.googleapis.com/tensorflow/tf-keras-datasets/train-labels-idx1-ubyte.gz\n",
      "29515/29515 [==============================] - 0s 0us/step\n",
      "Downloading data from https://storage.googleapis.com/tensorflow/tf-keras-datasets/train-images-idx3-ubyte.gz\n",
      "26421880/26421880 [==============================] - 0s 0us/step\n",
      "Downloading data from https://storage.googleapis.com/tensorflow/tf-keras-datasets/t10k-labels-idx1-ubyte.gz\n",
      "5148/5148 [==============================] - 0s 0us/step\n",
      "Downloading data from https://storage.googleapis.com/tensorflow/tf-keras-datasets/t10k-images-idx3-ubyte.gz\n",
      "4422102/4422102 [==============================] - 0s 0us/step\n"
     ]
    }
   ]
  },
  {
   "cell_type": "code",
   "source": [
    "# scale pixels to be between 0 and 1\n",
    "X_train, X_valid, X_test = X_train / 255., X_valid / 255., X_test / 255."
   ],
   "metadata": {
    "id": "lufrmv_K4Gzl"
   },
   "execution_count": null,
   "outputs": []
  },
  {
   "cell_type": "code",
   "source": [
    "tf.random.set_seed(42)\n",
    "model = tf.keras.Sequential()\n",
    "model.add(tf.keras.layers.Input(shape=[28, 28]))\n",
    "model.add(tf.keras.layers.Flatten())\n",
    "model.add(tf.keras.layers.Dense(300, activation='relu', kernel_initializer='he_normal'))\n",
    "model.add(tf.keras.layers.Dense(100, activation='relu', kernel_initializer='he_normal'))\n",
    "# model.add(tf.keras.layers.Dropout(0.5))\n",
    "model.add(tf.keras.layers.Dense(10, activation=\"softmax\", kernel_initializer='he_normal'))\n",
    "\n",
    "\n",
    "model.compile(loss=\"sparse_categorical_crossentropy\",\n",
    "              optimizer=tf.keras.optimizers.SGD(momentum = 0.9),\n",
    "              metrics=[\"accuracy\"])\n",
    "\n",
    "# callbacks = [tf.keras.callbacks.EarlyStopping(patience=5, restore_best_weights=True)]\n",
    "\n",
    "history = model.fit(X_train, y_train, epochs=30, validation_data=(X_valid, y_valid))\n",
    "\n",
    "test_loss, test_accuracy = model.evaluate(X_test, y_test)\n",
    "\n",
    "# Print the test accuracy\n",
    "print(\"Test Accuracy:\", test_accuracy)"
   ],
   "metadata": {
    "id": "ndbnUC_t4dIk",
    "colab": {
     "base_uri": "https://localhost:8080/"
    },
    "outputId": "84f0ebe3-30a8-4662-8852-cc4cf5e9487b"
   },
   "execution_count": null,
   "outputs": [
    {
     "output_type": "stream",
     "name": "stdout",
     "text": [
      "Epoch 1/30\n",
      "1688/1688 [==============================] - 11s 6ms/step - loss: 0.5207 - accuracy: 0.8136 - val_loss: 0.4105 - val_accuracy: 0.8493\n",
      "Epoch 2/30\n",
      "1688/1688 [==============================] - 9s 5ms/step - loss: 0.3850 - accuracy: 0.8584 - val_loss: 0.3655 - val_accuracy: 0.8685\n",
      "Epoch 3/30\n",
      "1688/1688 [==============================] - 9s 6ms/step - loss: 0.3446 - accuracy: 0.8722 - val_loss: 0.3696 - val_accuracy: 0.8690\n",
      "Epoch 4/30\n",
      "1688/1688 [==============================] - 9s 6ms/step - loss: 0.3171 - accuracy: 0.8822 - val_loss: 0.3336 - val_accuracy: 0.8790\n",
      "Epoch 5/30\n",
      "1688/1688 [==============================] - 8s 5ms/step - loss: 0.3012 - accuracy: 0.8883 - val_loss: 0.3228 - val_accuracy: 0.8815\n",
      "Epoch 6/30\n",
      "1688/1688 [==============================] - 9s 6ms/step - loss: 0.2823 - accuracy: 0.8947 - val_loss: 0.3430 - val_accuracy: 0.8733\n",
      "Epoch 7/30\n",
      "1688/1688 [==============================] - 10s 6ms/step - loss: 0.2702 - accuracy: 0.8986 - val_loss: 0.3253 - val_accuracy: 0.8792\n",
      "Epoch 8/30\n",
      "1688/1688 [==============================] - 8s 5ms/step - loss: 0.2580 - accuracy: 0.9039 - val_loss: 0.3170 - val_accuracy: 0.8863\n",
      "Epoch 9/30\n",
      "1688/1688 [==============================] - 9s 5ms/step - loss: 0.2488 - accuracy: 0.9077 - val_loss: 0.3355 - val_accuracy: 0.8763\n",
      "Epoch 10/30\n",
      "1688/1688 [==============================] - 10s 6ms/step - loss: 0.2394 - accuracy: 0.9104 - val_loss: 0.3099 - val_accuracy: 0.8930\n",
      "Epoch 11/30\n",
      "1688/1688 [==============================] - 9s 5ms/step - loss: 0.2321 - accuracy: 0.9128 - val_loss: 0.3294 - val_accuracy: 0.8873\n",
      "Epoch 12/30\n",
      "1688/1688 [==============================] - 9s 5ms/step - loss: 0.2230 - accuracy: 0.9154 - val_loss: 0.3063 - val_accuracy: 0.8900\n",
      "Epoch 13/30\n",
      "1688/1688 [==============================] - 9s 5ms/step - loss: 0.2182 - accuracy: 0.9179 - val_loss: 0.3143 - val_accuracy: 0.8927\n",
      "Epoch 14/30\n",
      "1688/1688 [==============================] - 10s 6ms/step - loss: 0.2117 - accuracy: 0.9202 - val_loss: 0.3229 - val_accuracy: 0.8888\n",
      "Epoch 15/30\n",
      "1688/1688 [==============================] - 8s 5ms/step - loss: 0.2052 - accuracy: 0.9225 - val_loss: 0.3267 - val_accuracy: 0.8892\n",
      "Epoch 16/30\n",
      "1688/1688 [==============================] - 10s 6ms/step - loss: 0.1974 - accuracy: 0.9248 - val_loss: 0.3328 - val_accuracy: 0.8897\n",
      "Epoch 17/30\n",
      "1688/1688 [==============================] - 9s 6ms/step - loss: 0.1912 - accuracy: 0.9273 - val_loss: 0.3179 - val_accuracy: 0.8910\n",
      "Epoch 18/30\n",
      "1688/1688 [==============================] - 8s 5ms/step - loss: 0.1830 - accuracy: 0.9315 - val_loss: 0.3227 - val_accuracy: 0.8907\n",
      "Epoch 19/30\n",
      "1688/1688 [==============================] - 9s 5ms/step - loss: 0.1810 - accuracy: 0.9310 - val_loss: 0.3377 - val_accuracy: 0.8902\n",
      "Epoch 20/30\n",
      "1688/1688 [==============================] - 9s 5ms/step - loss: 0.1752 - accuracy: 0.9329 - val_loss: 0.3257 - val_accuracy: 0.8937\n",
      "Epoch 21/30\n",
      "1688/1688 [==============================] - 9s 5ms/step - loss: 0.1712 - accuracy: 0.9355 - val_loss: 0.3388 - val_accuracy: 0.8893\n",
      "Epoch 22/30\n",
      "1688/1688 [==============================] - 9s 5ms/step - loss: 0.1657 - accuracy: 0.9363 - val_loss: 0.3468 - val_accuracy: 0.8928\n",
      "Epoch 23/30\n",
      "1688/1688 [==============================] - 10s 6ms/step - loss: 0.1621 - accuracy: 0.9382 - val_loss: 0.3596 - val_accuracy: 0.8890\n",
      "Epoch 24/30\n",
      "1688/1688 [==============================] - 10s 6ms/step - loss: 0.1592 - accuracy: 0.9398 - val_loss: 0.3517 - val_accuracy: 0.8920\n",
      "Epoch 25/30\n",
      "1688/1688 [==============================] - 8s 5ms/step - loss: 0.1529 - accuracy: 0.9421 - val_loss: 0.3776 - val_accuracy: 0.8897\n",
      "Epoch 26/30\n",
      "1688/1688 [==============================] - 10s 6ms/step - loss: 0.1490 - accuracy: 0.9431 - val_loss: 0.3571 - val_accuracy: 0.8930\n",
      "Epoch 27/30\n",
      "1688/1688 [==============================] - 9s 5ms/step - loss: 0.1488 - accuracy: 0.9426 - val_loss: 0.3876 - val_accuracy: 0.8773\n",
      "Epoch 28/30\n",
      "1688/1688 [==============================] - 8s 5ms/step - loss: 0.1407 - accuracy: 0.9461 - val_loss: 0.3604 - val_accuracy: 0.8913\n",
      "Epoch 29/30\n",
      "1688/1688 [==============================] - 9s 5ms/step - loss: 0.1379 - accuracy: 0.9479 - val_loss: 0.3831 - val_accuracy: 0.8928\n",
      "Epoch 30/30\n",
      "1688/1688 [==============================] - 9s 6ms/step - loss: 0.1337 - accuracy: 0.9484 - val_loss: 0.3889 - val_accuracy: 0.8923\n",
      "313/313 [==============================] - 1s 3ms/step - loss: 0.4102 - accuracy: 0.8867\n",
      "Test Accuracy: 0.8866999745368958\n"
     ]
    }
   ]
  },
  {
   "cell_type": "code",
   "source": [
    "#plot accuracy\n",
    "plt.figure(figsize=(12, 3))\n",
    "plt.subplot(1, 2, 1)\n",
    "\n",
    "plt.plot(history.history['accuracy'])\n",
    "plt.plot(history.history['val_accuracy'])\n",
    "plt.title('model accuracy')\n",
    "plt.ylabel('accuracy')\n",
    "plt.xlabel('epoch')\n",
    "plt.legend(['train', 'val'])\n",
    "#plt.show()\n",
    "\n",
    "#plot loss\n",
    "plt.subplot(1, 2, 2)\n",
    "plt.plot(history.history['loss'])\n",
    "plt.plot(history.history['val_loss'])\n",
    "plt.title('model loss')\n",
    "plt.ylabel('loss')\n",
    "plt.xlabel('epoch')\n",
    "plt.legend(['train', 'val'])\n",
    "plt.show()"
   ],
   "metadata": {
    "colab": {
     "base_uri": "https://localhost:8080/",
     "height": 333
    },
    "id": "wSyvLxcX5w1W",
    "outputId": "167248f0-f1dd-4147-e2b0-7d1766f5b548"
   },
   "execution_count": null,
   "outputs": [
    {
     "output_type": "display_data",
     "data": {
      "text/plain": [
       "<Figure size 1200x300 with 2 Axes>"
      ],
      "image/png": "[encoded data removed]"
     },
     "metadata": {}
    }
   ]
  },
  {
   "cell_type": "markdown",
   "source": [
    "### CNN network on fashion MNIST"
   ],
   "metadata": {
    "id": "_fOGts_b3d42"
   }
  },
  {
   "cell_type": "code",
   "source": [
    "from functools import partial\n",
    "DefaultConv2D = partial(tf.keras.layers.Conv2D, kernel_size=3, padding=\"same\",\n",
    "                        activation=\"tanh\", kernel_initializer=\"glorot_uniform\")\n",
    "model = tf.keras.Sequential([\n",
    "  DefaultConv2D(filters=64, kernel_size=7, input_shape=[28, 28, 1]),\n",
    "  # DefaultConv2D(filters=64),\n",
    "  tf.keras.layers.MaxPool2D(),\n",
    "\n",
    "  DefaultConv2D(filters=64),\n",
    "  DefaultConv2D(filters=64),\n",
    "  tf.keras.layers.MaxPool2D(),\n",
    "\n",
    "  DefaultConv2D(filters=64),\n",
    "  DefaultConv2D(filters=64),\n",
    "  tf.keras.layers.MaxPool2D(),\n",
    "\n",
    "  tf.keras.layers.Flatten(),\n",
    "  tf.keras.layers.Dense(units=128, activation=\"tanh\", kernel_initializer=\"glorot_uniform\"),\n",
    "  tf.keras.layers.Dropout(0.5),\n",
    "  tf.keras.layers.Dense(units=64, activation=\"tanh\", kernel_initializer=\"glorot_uniform\"),\n",
    "  tf.keras.layers.Dropout(0.5),\n",
    "  tf.keras.layers.Dense(units=10, activation=\"softmax\")\n",
    "])\n",
    "\n",
    "model.compile(loss=\"sparse_categorical_crossentropy\",\n",
    "              optimizer=tf.keras.optimizers.SGD(momentum=0.75),\n",
    "              metrics=[\"accuracy\"])\n",
    "\n",
    "history = model.fit(X_train, y_train, epochs=30, validation_data=(X_valid, y_valid))\n",
    "\n",
    "model.evaluate(X_test, y_test)\n",
    "test_loss, test_accuracy = model.evaluate(X_test, y_test)\n",
    "\n",
    "# Print the test accuracy\n",
    "print(\"Test Accuracy:\", test_accuracy)"
   ],
   "metadata": {
    "colab": {
     "base_uri": "https://localhost:8080/"
    },
    "id": "JoF5cgVuCXy7",
    "outputId": "7b189b02-2e1e-44fe-f10f-0ec73504a3bf"
   },
   "execution_count": null,
   "outputs": [
    {
     "output_type": "stream",
     "name": "stdout",
     "text": [
      "Epoch 1/30\n",
      "1688/1688 [==============================] - 11s 6ms/step - loss: 0.6704 - accuracy: 0.7609 - val_loss: 0.3956 - val_accuracy: 0.8513\n",
      "Epoch 2/30\n",
      "1688/1688 [==============================] - 10s 6ms/step - loss: 0.4429 - accuracy: 0.8454 - val_loss: 0.3602 - val_accuracy: 0.8688\n",
      "Epoch 3/30\n",
      "1688/1688 [==============================] - 10s 6ms/step - loss: 0.3888 - accuracy: 0.8641 - val_loss: 0.3201 - val_accuracy: 0.8827\n",
      "Epoch 4/30\n",
      "1688/1688 [==============================] - 11s 7ms/step - loss: 0.3515 - accuracy: 0.8811 - val_loss: 0.3023 - val_accuracy: 0.8908\n",
      "Epoch 5/30\n",
      "1688/1688 [==============================] - 10s 6ms/step - loss: 0.3277 - accuracy: 0.8884 - val_loss: 0.2772 - val_accuracy: 0.9030\n",
      "Epoch 6/30\n",
      "1688/1688 [==============================] - 9s 6ms/step - loss: 0.3050 - accuracy: 0.8953 - val_loss: 0.3049 - val_accuracy: 0.8935\n",
      "Epoch 7/30\n",
      "1688/1688 [==============================] - 10s 6ms/step - loss: 0.2840 - accuracy: 0.9045 - val_loss: 0.2826 - val_accuracy: 0.9012\n",
      "Epoch 8/30\n",
      "1688/1688 [==============================] - 9s 6ms/step - loss: 0.2746 - accuracy: 0.9085 - val_loss: 0.2686 - val_accuracy: 0.9093\n",
      "Epoch 9/30\n",
      "1688/1688 [==============================] - 10s 6ms/step - loss: 0.2544 - accuracy: 0.9138 - val_loss: 0.2785 - val_accuracy: 0.9027\n",
      "Epoch 10/30\n",
      "1688/1688 [==============================] - 9s 5ms/step - loss: 0.2424 - accuracy: 0.9180 - val_loss: 0.2688 - val_accuracy: 0.9085\n",
      "Epoch 11/30\n",
      "1688/1688 [==============================] - 10s 6ms/step - loss: 0.2325 - accuracy: 0.9231 - val_loss: 0.2560 - val_accuracy: 0.9125\n",
      "Epoch 12/30\n",
      "1688/1688 [==============================] - 9s 6ms/step - loss: 0.2224 - accuracy: 0.9250 - val_loss: 0.2645 - val_accuracy: 0.9122\n",
      "Epoch 13/30\n",
      "1688/1688 [==============================] - 10s 6ms/step - loss: 0.2125 - accuracy: 0.9294 - val_loss: 0.2493 - val_accuracy: 0.9180\n",
      "Epoch 14/30\n",
      "1688/1688 [==============================] - 9s 5ms/step - loss: 0.2012 - accuracy: 0.9332 - val_loss: 0.2680 - val_accuracy: 0.9153\n",
      "Epoch 15/30\n",
      "1688/1688 [==============================] - 9s 6ms/step - loss: 0.1891 - accuracy: 0.9372 - val_loss: 0.2695 - val_accuracy: 0.9117\n",
      "Epoch 16/30\n",
      "1688/1688 [==============================] - 9s 6ms/step - loss: 0.1821 - accuracy: 0.9388 - val_loss: 0.2739 - val_accuracy: 0.9100\n",
      "Epoch 17/30\n",
      "1688/1688 [==============================] - 10s 6ms/step - loss: 0.1735 - accuracy: 0.9419 - val_loss: 0.2607 - val_accuracy: 0.9197\n",
      "Epoch 18/30\n",
      "1688/1688 [==============================] - 9s 5ms/step - loss: 0.1649 - accuracy: 0.9463 - val_loss: 0.2661 - val_accuracy: 0.9150\n",
      "Epoch 19/30\n",
      "1688/1688 [==============================] - 9s 5ms/step - loss: 0.1575 - accuracy: 0.9483 - val_loss: 0.2838 - val_accuracy: 0.9180\n",
      "Epoch 20/30\n",
      "1688/1688 [==============================] - 10s 6ms/step - loss: 0.1502 - accuracy: 0.9504 - val_loss: 0.2814 - val_accuracy: 0.9128\n",
      "Epoch 21/30\n",
      "1688/1688 [==============================] - 10s 6ms/step - loss: 0.1441 - accuracy: 0.9529 - val_loss: 0.2789 - val_accuracy: 0.9142\n",
      "Epoch 22/30\n",
      "1688/1688 [==============================] - 9s 6ms/step - loss: 0.1379 - accuracy: 0.9548 - val_loss: 0.2913 - val_accuracy: 0.9180\n",
      "Epoch 23/30\n",
      "1688/1688 [==============================] - 9s 5ms/step - loss: 0.1336 - accuracy: 0.9559 - val_loss: 0.2980 - val_accuracy: 0.9115\n",
      "Epoch 24/30\n",
      "1688/1688 [==============================] - 10s 6ms/step - loss: 0.1234 - accuracy: 0.9595 - val_loss: 0.3032 - val_accuracy: 0.9127\n",
      "Epoch 25/30\n",
      "1688/1688 [==============================] - 10s 6ms/step - loss: 0.1157 - accuracy: 0.9626 - val_loss: 0.3143 - val_accuracy: 0.9143\n",
      "Epoch 26/30\n",
      "1688/1688 [==============================] - 10s 6ms/step - loss: 0.1142 - accuracy: 0.9632 - val_loss: 0.3004 - val_accuracy: 0.9162\n",
      "Epoch 27/30\n",
      "1688/1688 [==============================] - 9s 5ms/step - loss: 0.1078 - accuracy: 0.9657 - val_loss: 0.3110 - val_accuracy: 0.9147\n",
      "Epoch 28/30\n",
      "1688/1688 [==============================] - 10s 6ms/step - loss: 0.1064 - accuracy: 0.9661 - val_loss: 0.3281 - val_accuracy: 0.9112\n",
      "Epoch 29/30\n",
      "1688/1688 [==============================] - 10s 6ms/step - loss: 0.0988 - accuracy: 0.9681 - val_loss: 0.3312 - val_accuracy: 0.9118\n",
      "Epoch 30/30\n",
      "1688/1688 [==============================] - 10s 6ms/step - loss: 0.0942 - accuracy: 0.9698 - val_loss: 0.3294 - val_accuracy: 0.9143\n",
      "313/313 [==============================] - 1s 3ms/step - loss: 0.3416 - accuracy: 0.9088\n",
      "313/313 [==============================] - 1s 3ms/step - loss: 0.3416 - accuracy: 0.9088\n",
      "Test Accuracy: 0.9088000059127808\n"
     ]
    }
   ]
  },
  {
   "cell_type": "code",
   "source": [
    "#plot accuracy\n",
    "plt.figure(figsize=(12, 3))\n",
    "plt.subplot(1, 2, 1)\n",
    "\n",
    "plt.plot(history.history['accuracy'])\n",
    "plt.plot(history.history['val_accuracy'])\n",
    "plt.title('model accuracy')\n",
    "plt.ylabel('accuracy')\n",
    "plt.xlabel('epoch')\n",
    "plt.legend(['train', 'val'])\n",
    "#plt.show()\n",
    "\n",
    "#plot loss\n",
    "plt.subplot(1, 2, 2)\n",
    "plt.plot(history.history['loss'])\n",
    "plt.plot(history.history['val_loss'])\n",
    "plt.title('model loss')\n",
    "plt.ylabel('loss')\n",
    "plt.xlabel('epoch')\n",
    "plt.legend(['train', 'val'])\n",
    "plt.show()"
   ],
   "metadata": {
    "colab": {
     "base_uri": "https://localhost:8080/",
     "height": 333
    },
    "id": "6rZe4rqKHyjj",
    "outputId": "2114835e-81bd-4b1a-b98f-e9823eae2a0c"
   },
   "execution_count": null,
   "outputs": [
    {
     "output_type": "display_data",
     "data": {
      "text/plain": [
       "<Figure size 1200x300 with 2 Axes>"
      ],
      "image/png": "[encoded data removed]"
     },
     "metadata": {}
    }
   ]
  },
  {
   "cell_type": "markdown",
   "source": [
    "### Best models on CIFAR 10"
   ],
   "metadata": {
    "id": "IgCAZ_QDnbMU"
   }
  },
  {
   "cell_type": "code",
   "source": [
    "import tensorflow as tf\n",
    "from matplotlib import pyplot as plt\n",
    "cifar10 = tf.keras.datasets.cifar10.load_data()\n",
    "(X_train_full, y_train_full), (X_test, y_test) = cifar10\n",
    "\n",
    "# 10% of traiining set is used for validation\n",
    "X_train, y_train = X_train_full[:-5000], y_train_full[:-5000]\n",
    "X_valid, y_valid = X_train_full[-5000:], y_train_full[-5000:]\n",
    "\n",
    "# scale pixels to be between 0 and 1\n",
    "X_train, X_valid, X_test = X_train / 255., X_valid / 255., X_test / 255.\n"
   ],
   "metadata": {
    "id": "hI5q2GwZngWn",
    "colab": {
     "base_uri": "https://localhost:8080/"
    },
    "outputId": "5284218e-b660-43ec-f941-4160f67924b5"
   },
   "execution_count": null,
   "outputs": [
    {
     "output_type": "stream",
     "name": "stdout",
     "text": [
      "Downloading data from https://www.cs.toronto.edu/~kriz/cifar-10-python.tar.gz\n",
      "170498071/170498071 [==============================] - 2s 0us/step\n"
     ]
    }
   ]
  },
  {
   "cell_type": "markdown",
   "source": [
    "#### Model 1"
   ],
   "metadata": {
    "id": "H175vqPdrdO_"
   }
  },
  {
   "cell_type": "code",
   "source": [
    "from functools import partial\n",
    "DefaultConv2D = partial(tf.keras.layers.Conv2D, kernel_size=3, padding=\"same\",\n",
    "                        activation=\"tanh\", kernel_initializer=\"he_normal\")\n",
    "model = tf.keras.Sequential([\n",
    "  DefaultConv2D(filters=64, kernel_size=7, input_shape=[32, 32, 3]),\n",
    "  DefaultConv2D(filters=64),\n",
    "  tf.keras.layers.MaxPool2D(),\n",
    "\n",
    "  DefaultConv2D(filters=64),\n",
    "  DefaultConv2D(filters=64),\n",
    "  tf.keras.layers.MaxPool2D(),\n",
    "\n",
    "  DefaultConv2D(filters=64),\n",
    "  DefaultConv2D(filters=64),\n",
    "  tf.keras.layers.MaxPool2D(),\n",
    "\n",
    "  tf.keras.layers.Flatten(),\n",
    "  tf.keras.layers.Dense(units=128, activation=\"tanh\", kernel_initializer=\"he_normal\"),\n",
    "  tf.keras.layers.Dropout(0.5),\n",
    "  tf.keras.layers.Dense(units=64, activation=\"tanh\", kernel_initializer=\"he_normal\"),\n",
    "  tf.keras.layers.Dropout(0.5),\n",
    "  tf.keras.layers.Dense(units=10, activation=\"softmax\")\n",
    "])\n",
    "\n",
    "model.compile(loss=\"sparse_categorical_crossentropy\",\n",
    "              optimizer=tf.keras.optimizers.SGD(),\n",
    "              metrics=[\"accuracy\"])\n",
    "\n",
    "history = model.fit(X_train, y_train, epochs=30, validation_data=(X_valid, y_valid))\n",
    "\n",
    "model.evaluate(X_test, y_test)\n",
    "test_loss, test_accuracy = model.evaluate(X_test, y_test)\n",
    "\n",
    "# Print the test accuracy\n",
    "print(\"Test Accuracy:\", test_accuracy)"
   ],
   "metadata": {
    "id": "Mf7cSYVVrcLz",
    "colab": {
     "base_uri": "https://localhost:8080/"
    },
    "outputId": "fdb652ef-6a27-4e05-c9c4-95f2b08336a3"
   },
   "execution_count": null,
   "outputs": [
    {
     "output_type": "stream",
     "name": "stdout",
     "text": [
      "Epoch 1/30\n",
      "1407/1407 [==============================] - 13s 8ms/step - loss: 2.0695 - accuracy: 0.2710 - val_loss: 1.7948 - val_accuracy: 0.3370\n",
      "Epoch 2/30\n",
      "1407/1407 [==============================] - 11s 8ms/step - loss: 1.6280 - accuracy: 0.4034 - val_loss: 1.6617 - val_accuracy: 0.4254\n",
      "Epoch 3/30\n",
      "1407/1407 [==============================] - 11s 8ms/step - loss: 1.4833 - accuracy: 0.4571 - val_loss: 1.3006 - val_accuracy: 0.5312\n",
      "Epoch 4/30\n",
      "1407/1407 [==============================] - 11s 8ms/step - loss: 1.3855 - accuracy: 0.4988 - val_loss: 1.2311 - val_accuracy: 0.5622\n",
      "Epoch 5/30\n",
      "1407/1407 [==============================] - 11s 8ms/step - loss: 1.3036 - accuracy: 0.5335 - val_loss: 1.1973 - val_accuracy: 0.5766\n",
      "Epoch 6/30\n",
      "1407/1407 [==============================] - 11s 8ms/step - loss: 1.2395 - accuracy: 0.5584 - val_loss: 1.2077 - val_accuracy: 0.5738\n",
      "Epoch 7/30\n",
      "1407/1407 [==============================] - 11s 8ms/step - loss: 1.1810 - accuracy: 0.5809 - val_loss: 1.0760 - val_accuracy: 0.6120\n",
      "Epoch 8/30\n",
      "1407/1407 [==============================] - 11s 8ms/step - loss: 1.1276 - accuracy: 0.6029 - val_loss: 1.3394 - val_accuracy: 0.5612\n",
      "Epoch 9/30\n",
      "1407/1407 [==============================] - 11s 8ms/step - loss: 1.0780 - accuracy: 0.6239 - val_loss: 0.9886 - val_accuracy: 0.6464\n",
      "Epoch 10/30\n",
      "1407/1407 [==============================] - 11s 8ms/step - loss: 1.0334 - accuracy: 0.6367 - val_loss: 0.9547 - val_accuracy: 0.6626\n",
      "Epoch 11/30\n",
      "1407/1407 [==============================] - 11s 8ms/step - loss: 0.9957 - accuracy: 0.6538 - val_loss: 0.9924 - val_accuracy: 0.6590\n",
      "Epoch 12/30\n",
      "1407/1407 [==============================] - 11s 8ms/step - loss: 0.9641 - accuracy: 0.6683 - val_loss: 0.9669 - val_accuracy: 0.6682\n",
      "Epoch 13/30\n",
      "1407/1407 [==============================] - 11s 8ms/step - loss: 0.9312 - accuracy: 0.6807 - val_loss: 1.0126 - val_accuracy: 0.6568\n",
      "Epoch 14/30\n",
      "1407/1407 [==============================] - 11s 8ms/step - loss: 0.8976 - accuracy: 0.6928 - val_loss: 0.9152 - val_accuracy: 0.6836\n",
      "Epoch 15/30\n",
      "1407/1407 [==============================] - 11s 8ms/step - loss: 0.8703 - accuracy: 0.7001 - val_loss: 0.8723 - val_accuracy: 0.6966\n",
      "Epoch 16/30\n",
      "1407/1407 [==============================] - 11s 8ms/step - loss: 0.8332 - accuracy: 0.7102 - val_loss: 0.9667 - val_accuracy: 0.6736\n",
      "Epoch 17/30\n",
      "1407/1407 [==============================] - 11s 8ms/step - loss: 0.8033 - accuracy: 0.7254 - val_loss: 1.1124 - val_accuracy: 0.6478\n",
      "Epoch 18/30\n",
      "1407/1407 [==============================] - 11s 8ms/step - loss: 0.7827 - accuracy: 0.7328 - val_loss: 0.9605 - val_accuracy: 0.6882\n",
      "Epoch 19/30\n",
      "1407/1407 [==============================] - 11s 8ms/step - loss: 0.7543 - accuracy: 0.7429 - val_loss: 0.9722 - val_accuracy: 0.6716\n",
      "Epoch 20/30\n",
      "1407/1407 [==============================] - 11s 8ms/step - loss: 0.7311 - accuracy: 0.7485 - val_loss: 0.9872 - val_accuracy: 0.6778\n",
      "Epoch 21/30\n",
      "1407/1407 [==============================] - 11s 8ms/step - loss: 0.7070 - accuracy: 0.7568 - val_loss: 0.8654 - val_accuracy: 0.7146\n",
      "Epoch 22/30\n",
      "1407/1407 [==============================] - 11s 8ms/step - loss: 0.6891 - accuracy: 0.7651 - val_loss: 0.8889 - val_accuracy: 0.7146\n",
      "Epoch 23/30\n",
      "1407/1407 [==============================] - 11s 8ms/step - loss: 0.6604 - accuracy: 0.7748 - val_loss: 0.8737 - val_accuracy: 0.7132\n",
      "Epoch 24/30\n",
      "1407/1407 [==============================] - 11s 8ms/step - loss: 0.6329 - accuracy: 0.7841 - val_loss: 0.9844 - val_accuracy: 0.6794\n",
      "Epoch 25/30\n",
      "1407/1407 [==============================] - 11s 8ms/step - loss: 0.6251 - accuracy: 0.7866 - val_loss: 1.0274 - val_accuracy: 0.6688\n",
      "Epoch 26/30\n",
      "1407/1407 [==============================] - 11s 8ms/step - loss: 0.5927 - accuracy: 0.8000 - val_loss: 0.8794 - val_accuracy: 0.7200\n",
      "Epoch 27/30\n",
      "1407/1407 [==============================] - 11s 8ms/step - loss: 0.5820 - accuracy: 0.7999 - val_loss: 0.8414 - val_accuracy: 0.7320\n",
      "Epoch 28/30\n",
      "1407/1407 [==============================] - 11s 8ms/step - loss: 0.5535 - accuracy: 0.8115 - val_loss: 1.1286 - val_accuracy: 0.6746\n",
      "Epoch 29/30\n",
      "1407/1407 [==============================] - 11s 8ms/step - loss: 0.5417 - accuracy: 0.8142 - val_loss: 0.8871 - val_accuracy: 0.7228\n",
      "Epoch 30/30\n",
      "1407/1407 [==============================] - 11s 8ms/step - loss: 0.5166 - accuracy: 0.8225 - val_loss: 1.0903 - val_accuracy: 0.6774\n",
      "313/313 [==============================] - 1s 3ms/step - loss: 1.0988 - accuracy: 0.6720\n",
      "313/313 [==============================] - 1s 4ms/step - loss: 1.0988 - accuracy: 0.6720\n",
      "Test Accuracy: 0.671999990940094\n"
     ]
    }
   ]
  },
  {
   "cell_type": "markdown",
   "source": [
    "#### Model 2"
   ],
   "metadata": {
    "id": "ZOHQSzxmuERX"
   }
  },
  {
   "cell_type": "code",
   "source": [
    "from functools import partial\n",
    "DefaultConv2D = partial(tf.keras.layers.Conv2D, kernel_size=3, padding=\"same\",\n",
    "                        activation=\"tanh\", kernel_initializer=\"glorot_uniform\")\n",
    "model = tf.keras.Sequential([\n",
    "  DefaultConv2D(filters=64, kernel_size=7, input_shape=[32, 32, 3]),\n",
    "  tf.keras.layers.MaxPool2D(),\n",
    "\n",
    "  DefaultConv2D(filters=64),\n",
    "  DefaultConv2D(filters=64),\n",
    "  tf.keras.layers.MaxPool2D(),\n",
    "\n",
    "  DefaultConv2D(filters=64),\n",
    "  DefaultConv2D(filters=64),\n",
    "  tf.keras.layers.MaxPool2D(),\n",
    "\n",
    "  tf.keras.layers.Flatten(),\n",
    "  tf.keras.layers.Dense(units=128, activation=\"tanh\", kernel_initializer=\"glorot_uniform\"),\n",
    "  tf.keras.layers.Dropout(0.5),\n",
    "  tf.keras.layers.Dense(units=64, activation=\"tanh\", kernel_initializer=\"glorot_uniform\"),\n",
    "  tf.keras.layers.Dropout(0.5),\n",
    "  tf.keras.layers.Dense(units=10, activation=\"softmax\")\n",
    "])\n",
    "\n",
    "model.compile(loss=\"sparse_categorical_crossentropy\",\n",
    "              optimizer=tf.keras.optimizers.SGD(momentum=0.75),\n",
    "              metrics=[\"accuracy\"])\n",
    "\n",
    "history = model.fit(X_train, y_train, epochs=30, validation_data=(X_valid, y_valid))\n",
    "\n",
    "model.evaluate(X_test, y_test)\n",
    "test_loss, test_accuracy = model.evaluate(X_test, y_test)\n",
    "\n",
    "# Print the test accuracy\n",
    "print(\"Test Accuracy:\", test_accuracy)"
   ],
   "metadata": {
    "id": "_422L2DZuCwA",
    "colab": {
     "base_uri": "https://localhost:8080/"
    },
    "outputId": "65d4bd77-b66d-4018-eb4b-9b3297c65f79"
   },
   "execution_count": null,
   "outputs": [
    {
     "output_type": "stream",
     "name": "stdout",
     "text": [
      "Epoch 1/30\n",
      "1407/1407 [==============================] - 10s 6ms/step - loss: 1.7583 - accuracy: 0.3592 - val_loss: 1.3286 - val_accuracy: 0.5288\n",
      "Epoch 2/30\n",
      "1407/1407 [==============================] - 8s 6ms/step - loss: 1.4159 - accuracy: 0.4893 - val_loss: 1.1436 - val_accuracy: 0.5876\n",
      "Epoch 3/30\n",
      "1407/1407 [==============================] - 9s 6ms/step - loss: 1.2704 - accuracy: 0.5508 - val_loss: 1.0957 - val_accuracy: 0.6140\n",
      "Epoch 4/30\n",
      "1407/1407 [==============================] - 9s 6ms/step - loss: 1.1740 - accuracy: 0.5913 - val_loss: 1.0039 - val_accuracy: 0.6470\n",
      "Epoch 5/30\n",
      "1407/1407 [==============================] - 9s 6ms/step - loss: 1.0991 - accuracy: 0.6179 - val_loss: 0.9530 - val_accuracy: 0.6704\n",
      "Epoch 6/30\n",
      "1407/1407 [==============================] - 9s 6ms/step - loss: 1.0347 - accuracy: 0.6444 - val_loss: 0.9145 - val_accuracy: 0.6854\n",
      "Epoch 7/30\n",
      "1407/1407 [==============================] - 9s 6ms/step - loss: 0.9867 - accuracy: 0.6618 - val_loss: 0.8970 - val_accuracy: 0.6926\n",
      "Epoch 8/30\n",
      "1407/1407 [==============================] - 8s 6ms/step - loss: 0.9414 - accuracy: 0.6772 - val_loss: 0.9092 - val_accuracy: 0.6940\n",
      "Epoch 9/30\n",
      "1407/1407 [==============================] - 9s 6ms/step - loss: 0.9031 - accuracy: 0.6936 - val_loss: 0.8562 - val_accuracy: 0.7066\n",
      "Epoch 10/30\n",
      "1407/1407 [==============================] - 9s 6ms/step - loss: 0.8674 - accuracy: 0.7062 - val_loss: 0.8726 - val_accuracy: 0.7016\n",
      "Epoch 11/30\n",
      "1407/1407 [==============================] - 8s 6ms/step - loss: 0.8305 - accuracy: 0.7193 - val_loss: 0.8956 - val_accuracy: 0.6928\n",
      "Epoch 12/30\n",
      "1407/1407 [==============================] - 10s 7ms/step - loss: 0.7969 - accuracy: 0.7314 - val_loss: 0.8650 - val_accuracy: 0.7106\n",
      "Epoch 13/30\n",
      "1407/1407 [==============================] - 9s 6ms/step - loss: 0.7648 - accuracy: 0.7420 - val_loss: 0.8664 - val_accuracy: 0.7134\n",
      "Epoch 14/30\n",
      "1407/1407 [==============================] - 9s 6ms/step - loss: 0.7375 - accuracy: 0.7513 - val_loss: 0.8680 - val_accuracy: 0.7174\n",
      "Epoch 15/30\n",
      "1407/1407 [==============================] - 8s 6ms/step - loss: 0.7092 - accuracy: 0.7620 - val_loss: 0.8785 - val_accuracy: 0.7070\n",
      "Epoch 16/30\n",
      "1407/1407 [==============================] - 9s 6ms/step - loss: 0.6905 - accuracy: 0.7678 - val_loss: 0.8527 - val_accuracy: 0.7140\n",
      "Epoch 17/30\n",
      "1407/1407 [==============================] - 9s 6ms/step - loss: 0.6672 - accuracy: 0.7770 - val_loss: 0.8790 - val_accuracy: 0.7146\n",
      "Epoch 18/30\n",
      "1407/1407 [==============================] - 8s 6ms/step - loss: 0.6430 - accuracy: 0.7848 - val_loss: 0.8688 - val_accuracy: 0.7102\n",
      "Epoch 19/30\n",
      "1407/1407 [==============================] - 9s 6ms/step - loss: 0.6192 - accuracy: 0.7932 - val_loss: 0.8777 - val_accuracy: 0.7186\n",
      "Epoch 20/30\n",
      "1407/1407 [==============================] - 9s 6ms/step - loss: 0.6072 - accuracy: 0.7980 - val_loss: 0.9015 - val_accuracy: 0.7082\n",
      "Epoch 21/30\n",
      "1407/1407 [==============================] - 8s 6ms/step - loss: 0.5913 - accuracy: 0.8035 - val_loss: 0.8991 - val_accuracy: 0.7194\n",
      "Epoch 22/30\n",
      "1407/1407 [==============================] - 8s 6ms/step - loss: 0.5773 - accuracy: 0.8077 - val_loss: 0.9320 - val_accuracy: 0.7110\n",
      "Epoch 23/30\n",
      "1407/1407 [==============================] - 9s 6ms/step - loss: 0.5675 - accuracy: 0.8125 - val_loss: 0.9001 - val_accuracy: 0.7148\n",
      "Epoch 24/30\n",
      "1407/1407 [==============================] - 9s 6ms/step - loss: 0.5474 - accuracy: 0.8178 - val_loss: 0.9076 - val_accuracy: 0.7136\n",
      "Epoch 25/30\n",
      "1407/1407 [==============================] - 9s 6ms/step - loss: 0.5495 - accuracy: 0.8166 - val_loss: 0.9194 - val_accuracy: 0.7150\n",
      "Epoch 26/30\n",
      "1407/1407 [==============================] - 9s 6ms/step - loss: 0.5420 - accuracy: 0.8209 - val_loss: 0.8925 - val_accuracy: 0.7258\n",
      "Epoch 27/30\n",
      "1407/1407 [==============================] - 9s 6ms/step - loss: 0.5237 - accuracy: 0.8248 - val_loss: 0.9352 - val_accuracy: 0.7156\n",
      "Epoch 28/30\n",
      "1407/1407 [==============================] - 8s 6ms/step - loss: 0.5214 - accuracy: 0.8286 - val_loss: 0.9508 - val_accuracy: 0.7092\n",
      "Epoch 29/30\n",
      "1407/1407 [==============================] - 9s 6ms/step - loss: 0.5016 - accuracy: 0.8333 - val_loss: 0.9234 - val_accuracy: 0.7158\n",
      "Epoch 30/30\n",
      "1407/1407 [==============================] - 9s 6ms/step - loss: 0.5022 - accuracy: 0.8321 - val_loss: 0.9585 - val_accuracy: 0.7038\n",
      "313/313 [==============================] - 1s 4ms/step - loss: 1.0164 - accuracy: 0.6977\n",
      "313/313 [==============================] - 1s 4ms/step - loss: 1.0164 - accuracy: 0.6977\n",
      "Test Accuracy: 0.697700023651123\n"
     ]
    }
   ]
  },
  {
   "cell_type": "markdown",
   "source": [
    "#### Model 3"
   ],
   "metadata": {
    "id": "LJR9rnD_uZe-"
   }
  },
  {
   "cell_type": "code",
   "source": [
    "tf.random.set_seed(42)\n",
    "model = tf.keras.Sequential()\n",
    "model.add(tf.keras.layers.Input(shape=[32, 32, 3]))\n",
    "model.add(tf.keras.layers.Flatten())\n",
    "model.add(tf.keras.layers.Dense(300, activation='relu', kernel_initializer='he_normal'))\n",
    "model.add(tf.keras.layers.Dense(100, activation='relu', kernel_initializer='he_normal'))\n",
    "# model.add(tf.keras.layers.Dropout(0.5))\n",
    "model.add(tf.keras.layers.Dense(10, activation=\"softmax\", kernel_initializer='he_normal'))\n",
    "\n",
    "\n",
    "model.compile(loss=\"sparse_categorical_crossentropy\",\n",
    "              optimizer=tf.keras.optimizers.SGD(momentum = 0.9),\n",
    "              metrics=[\"accuracy\"])\n",
    "\n",
    "\n",
    "history = model.fit(X_train, y_train, epochs=30, validation_data=(X_valid, y_valid))\n",
    "\n",
    "test_loss, test_accuracy = model.evaluate(X_test, y_test)\n",
    "\n",
    "# Print the test accuracy\n",
    "print(\"Test Accuracy:\", test_accuracy)"
   ],
   "metadata": {
    "id": "FY3hK32pue2A",
    "colab": {
     "base_uri": "https://localhost:8080/"
    },
    "outputId": "3a55bceb-e337-42d8-b349-d42297e615bf"
   },
   "execution_count": null,
   "outputs": [
    {
     "output_type": "stream",
     "name": "stdout",
     "text": [
      "Epoch 1/30\n",
      "1407/1407 [==============================] - 6s 4ms/step - loss: 1.8903 - accuracy: 0.3099 - val_loss: 1.8353 - val_accuracy: 0.3388\n",
      "Epoch 2/30\n",
      "1407/1407 [==============================] - 5s 3ms/step - loss: 1.7357 - accuracy: 0.3750 - val_loss: 1.6921 - val_accuracy: 0.3860\n",
      "Epoch 3/30\n",
      "1407/1407 [==============================] - 5s 3ms/step - loss: 1.6664 - accuracy: 0.4016 - val_loss: 1.6774 - val_accuracy: 0.3958\n",
      "Epoch 4/30\n",
      "1407/1407 [==============================] - 6s 4ms/step - loss: 1.6208 - accuracy: 0.4170 - val_loss: 1.6430 - val_accuracy: 0.4050\n",
      "Epoch 5/30\n",
      "1407/1407 [==============================] - 5s 3ms/step - loss: 1.5805 - accuracy: 0.4339 - val_loss: 1.6281 - val_accuracy: 0.4256\n",
      "Epoch 6/30\n",
      "1407/1407 [==============================] - 5s 3ms/step - loss: 1.5596 - accuracy: 0.4370 - val_loss: 1.5922 - val_accuracy: 0.4392\n",
      "Epoch 7/30\n",
      "1407/1407 [==============================] - 5s 3ms/step - loss: 1.5279 - accuracy: 0.4531 - val_loss: 1.5690 - val_accuracy: 0.4454\n",
      "Epoch 8/30\n",
      "1407/1407 [==============================] - 5s 3ms/step - loss: 1.5103 - accuracy: 0.4589 - val_loss: 1.5792 - val_accuracy: 0.4350\n",
      "Epoch 9/30\n",
      "1407/1407 [==============================] - 5s 4ms/step - loss: 1.4961 - accuracy: 0.4623 - val_loss: 1.5585 - val_accuracy: 0.4466\n",
      "Epoch 10/30\n",
      "1407/1407 [==============================] - 5s 3ms/step - loss: 1.4805 - accuracy: 0.4686 - val_loss: 1.5415 - val_accuracy: 0.4558\n",
      "Epoch 11/30\n",
      "1407/1407 [==============================] - 5s 3ms/step - loss: 1.4626 - accuracy: 0.4756 - val_loss: 1.5125 - val_accuracy: 0.4606\n",
      "Epoch 12/30\n",
      "1407/1407 [==============================] - 5s 4ms/step - loss: 1.4457 - accuracy: 0.4812 - val_loss: 1.5146 - val_accuracy: 0.4580\n",
      "Epoch 13/30\n",
      "1407/1407 [==============================] - 5s 3ms/step - loss: 1.4331 - accuracy: 0.4854 - val_loss: 1.5232 - val_accuracy: 0.4702\n",
      "Epoch 14/30\n",
      "1407/1407 [==============================] - 5s 4ms/step - loss: 1.4171 - accuracy: 0.4897 - val_loss: 1.5102 - val_accuracy: 0.4758\n",
      "Epoch 15/30\n",
      "1407/1407 [==============================] - 5s 3ms/step - loss: 1.4180 - accuracy: 0.4908 - val_loss: 1.4917 - val_accuracy: 0.4714\n",
      "Epoch 16/30\n",
      "1407/1407 [==============================] - 5s 3ms/step - loss: 1.4020 - accuracy: 0.4974 - val_loss: 1.4959 - val_accuracy: 0.4702\n",
      "Epoch 17/30\n",
      "1407/1407 [==============================] - 5s 4ms/step - loss: 1.3806 - accuracy: 0.5051 - val_loss: 1.4706 - val_accuracy: 0.4792\n",
      "Epoch 18/30\n",
      "1407/1407 [==============================] - 5s 3ms/step - loss: 1.3751 - accuracy: 0.5060 - val_loss: 1.4922 - val_accuracy: 0.4692\n",
      "Epoch 19/30\n",
      "1407/1407 [==============================] - 5s 4ms/step - loss: 1.3679 - accuracy: 0.5086 - val_loss: 1.5063 - val_accuracy: 0.4758\n",
      "Epoch 20/30\n",
      "1407/1407 [==============================] - 4s 3ms/step - loss: 1.3509 - accuracy: 0.5169 - val_loss: 1.4715 - val_accuracy: 0.4896\n",
      "Epoch 21/30\n",
      "1407/1407 [==============================] - 5s 3ms/step - loss: 1.3413 - accuracy: 0.5185 - val_loss: 1.4818 - val_accuracy: 0.4892\n",
      "Epoch 22/30\n",
      "1407/1407 [==============================] - 5s 4ms/step - loss: 1.3391 - accuracy: 0.5206 - val_loss: 1.4522 - val_accuracy: 0.4874\n",
      "Epoch 23/30\n",
      "1407/1407 [==============================] - 5s 3ms/step - loss: 1.3179 - accuracy: 0.5271 - val_loss: 1.5186 - val_accuracy: 0.4800\n",
      "Epoch 24/30\n",
      "1407/1407 [==============================] - 5s 4ms/step - loss: 1.3109 - accuracy: 0.5291 - val_loss: 1.4865 - val_accuracy: 0.4876\n",
      "Epoch 25/30\n",
      "1407/1407 [==============================] - 5s 3ms/step - loss: 1.3005 - accuracy: 0.5326 - val_loss: 1.4712 - val_accuracy: 0.4802\n",
      "Epoch 26/30\n",
      "1407/1407 [==============================] - 5s 3ms/step - loss: 1.2957 - accuracy: 0.5358 - val_loss: 1.4705 - val_accuracy: 0.4886\n",
      "Epoch 27/30\n",
      "1407/1407 [==============================] - 5s 4ms/step - loss: 1.2865 - accuracy: 0.5385 - val_loss: 1.4692 - val_accuracy: 0.4864\n",
      "Epoch 28/30\n",
      "1407/1407 [==============================] - 5s 3ms/step - loss: 1.2754 - accuracy: 0.5423 - val_loss: 1.5063 - val_accuracy: 0.4842\n",
      "Epoch 29/30\n",
      "1407/1407 [==============================] - 5s 3ms/step - loss: 1.2654 - accuracy: 0.5456 - val_loss: 1.5291 - val_accuracy: 0.4974\n",
      "Epoch 30/30\n",
      "1407/1407 [==============================] - 5s 3ms/step - loss: 1.2610 - accuracy: 0.5458 - val_loss: 1.4980 - val_accuracy: 0.5004\n",
      "313/313 [==============================] - 1s 2ms/step - loss: 1.4815 - accuracy: 0.4885\n",
      "Test Accuracy: 0.4884999990463257\n"
     ]
    }
   ]
  }
 ]
}
